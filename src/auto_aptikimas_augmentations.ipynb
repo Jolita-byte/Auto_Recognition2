{
 "cells": [
  {
   "cell_type": "code",
   "execution_count": 1,
   "id": "5962230b",
   "metadata": {},
   "outputs": [],
   "source": [
    "import os\n",
    "import numpy as np\n",
    "import tensorflow as tf\n",
    "from tensorflow.keras.preprocessing.image import ImageDataGenerator\n",
    "from tqdm import tqdm\n",
    "import cv2\n",
    "import math"
   ]
  },
  {
   "cell_type": "code",
   "execution_count": 2,
   "id": "3dac723c",
   "metadata": {},
   "outputs": [
    {
     "data": {
      "application/javascript": [
       "\n",
       "            (function() {\n",
       "                jb_set_cell(\"total_number_of_files = 80\\nversion = \\\"v1.1.0\\\"\\n\\n# \\u012evesties bei i\\u0161vesties kategorijos\\ninput_dir = data_path + f\\\"data\\\\\\\\{version}\\\\\\\\for_augmentations\\\"\\nos.makedirs(input_dir, exist_ok=True)\\noutput_dir = data_path + f\\\"data\\\\\\\\{version}\\\\\\\\augmentations\\\"\\nos.makedirs(output_dir, exist_ok=True)\\n\\nbatch_size = len(os.listdir(input_dir))\\nnumber_of_files_to_generate = total_number_of_files - batch_size\\nnum_of_augmentations = math.ceil(number_of_files_to_generate / batch_size)\\n\\n# Sukuriame ImageDataGenerator objekt\\u0105 bei apra\\u0161om augmentavimo parametrus\\ndatagen = ImageDataGenerator(\\n    rotation_range=30,\\n    width_shift_range=0.2,\\n    height_shift_range=0.2,\\n    shear_range=0.2,\\n    zoom_range=0.2,\\n    brightness_range=[0.4, 0.8],\\n    horizontal_flip=True,\\n    fill_mode=\\\"reflect\\\",\\n)\\n\\ngenerator = datagen.flow_from_directory(\\n    directory=input_dir,\\n    target_size=(1024, 768),\\n    batch_size=batch_size,\\n    class_mode=\\\"categorical\\\",\\n    shuffle=False,\\n)\\n\\nfor i in range(0, num_of_augmentations):\\n    for batch in generator:\\n        #         print(f\\\"processing_{i+1}_batch_of_images\\\")\\n        for image_index in range(0, batch[0].shape[0]):\\n            image = batch[0][image_index, :, :, :]\\n            image_name = generator.filenames[image_index].split(\\\"\\\\\\\\\\\")[1].split(\\\".\\\")\\n            new_image_name = f\\\"{image_name[0]}_{image_name[1]}_augmentation_{i}.jpg\\\"\\n            path_to_save_image = os.path.join(output_dir, new_image_name)\\n            image = cv2.cvtColor(image, cv2.COLOR_BGR2RGB)\\n            cv2.imwrite(path_to_save_image, image)\\n            prigeneruota_failu = len(os.listdir(output_dir))\\n            if prigeneruota_failu == number_of_files_to_generate:\\n                break\\n        break\")\n",
       "            })();\n",
       "            "
      ],
      "text/plain": [
       "<IPython.core.display.Javascript object>"
      ]
     },
     "metadata": {},
     "output_type": "display_data"
    }
   ],
   "source": [
    "import black\n",
    "import jupyter_black\n",
    "\n",
    "jupyter_black.load(\n",
    "    lab=False,\n",
    "    line_length=100,\n",
    ")"
   ]
  },
  {
   "cell_type": "code",
   "execution_count": 3,
   "id": "923f1ee2",
   "metadata": {},
   "outputs": [],
   "source": [
    "data_path = \"C:\\\\Users\\\\jolged\\PycharmProjects\\\\Auto_Recognition2\\\\\""
   ]
  },
  {
   "cell_type": "code",
   "execution_count": 5,
   "id": "adf973eb",
   "metadata": {},
   "outputs": [
    {
     "name": "stdout",
     "output_type": "stream",
     "text": [
      "Found 74 images belonging to 1 classes.\n"
     ]
    }
   ],
   "source": [
    "total_number_of_files = 80\n",
    "version = \"v1.1.0\"\n",
    "\n",
    "# Įvesties bei išvesties kategorijos\n",
    "input_dir = data_path + f\"data\\\\{version}\\\\for_augmentations\"\n",
    "os.makedirs(input_dir, exist_ok=True)\n",
    "output_dir = data_path + f\"data\\\\{version}\\\\augmentations\"\n",
    "os.makedirs(output_dir, exist_ok=True)\n",
    "\n",
    "batch_size = len(os.listdir(input_dir))\n",
    "number_of_files_to_generate = total_number_of_files - batch_size\n",
    "num_of_augmentations = math.ceil(number_of_files_to_generate / batch_size)\n",
    "\n",
    "# Sukuriame ImageDataGenerator objektą bei aprašom augmentavimo parametrus\n",
    "datagen = ImageDataGenerator(\n",
    "    rotation_range=30,\n",
    "    width_shift_range=0.2,\n",
    "    height_shift_range=0.2,\n",
    "    shear_range=0.2,\n",
    "    zoom_range=0.2,\n",
    "    brightness_range=[0.4, 0.8],\n",
    "    horizontal_flip=True,\n",
    "    fill_mode=\"reflect\",\n",
    ")\n",
    "\n",
    "generator = datagen.flow_from_directory(\n",
    "    directory=input_dir,\n",
    "    target_size=(1024, 768),\n",
    "    batch_size=batch_size,\n",
    "    class_mode=\"categorical\",\n",
    "    shuffle=False,\n",
    ")\n",
    "\n",
    "for i in range(0, num_of_augmentations):\n",
    "    for batch in generator:\n",
    "        #         print(f\"processing_{i+1}_batch_of_images\")\n",
    "        for image_index in range(0, batch[0].shape[0]):\n",
    "            image = batch[0][image_index, :, :, :]\n",
    "            image_name = generator.filenames[image_index].split(\"\\\\\")[1].split(\".\")\n",
    "            new_image_name = f\"{image_name[0]}_{image_name[1]}_augmentation_{i}.jpg\"\n",
    "            path_to_save_image = os.path.join(output_dir, new_image_name)\n",
    "            image = cv2.cvtColor(image, cv2.COLOR_BGR2RGB)\n",
    "            cv2.imwrite(path_to_save_image, image)\n",
    "            prigeneruota_failu = len(os.listdir(output_dir))\n",
    "            if prigeneruota_failu == number_of_files_to_generate:\n",
    "                break\n",
    "        break"
   ]
  }
 ],
 "metadata": {
  "kernelspec": {
   "display_name": "JupyterNB",
   "language": "python",
   "name": "jupyternb"
  },
  "language_info": {
   "codemirror_mode": {
    "name": "ipython",
    "version": 3
   },
   "file_extension": ".py",
   "mimetype": "text/x-python",
   "name": "python",
   "nbconvert_exporter": "python",
   "pygments_lexer": "ipython3",
   "version": "3.10.7"
  }
 },
 "nbformat": 4,
 "nbformat_minor": 5
}
